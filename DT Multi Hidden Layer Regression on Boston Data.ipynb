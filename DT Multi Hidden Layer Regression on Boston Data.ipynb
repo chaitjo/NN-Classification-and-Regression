{
 "cells": [
  {
   "cell_type": "markdown",
   "metadata": {},
   "source": [
    "<h1>TF Mutiple Hidden Layers: Regression on Boston Data</h1>\n",
    "<br />\n",
    "This is adapted from Frossard's <a href=\"http://www.cs.toronto.edu/~frossard/post/tensorflow/\">tutorial</a>.\n",
    "<br />\n",
    "This approach is not batched, and the number of layers is fixed.\n",
    "<br />\n",
    "<br />\n",
    "D. Thiebaut\n",
    "<br />August 2016\n"
   ]
  },
  {
   "cell_type": "markdown",
   "metadata": {},
   "source": [
    "<h2>Import the Libraries and Tools</h2>"
   ]
  },
  {
   "cell_type": "code",
   "execution_count": 16,
   "metadata": {
    "collapsed": false
   },
   "outputs": [],
   "source": [
    "import numpy as np\n",
    "import matplotlib\n",
    "import matplotlib.pyplot as plt\n",
    "import tensorflow as tf\n",
    "from tensorflow.contrib import learn\n",
    "from sklearn import cross_validation\n",
    "from sklearn import preprocessing\n",
    "from sklearn import metrics\n",
    "from __future__ import print_function\n",
    "\n",
    "%matplotlib inline"
   ]
  },
  {
   "cell_type": "markdown",
   "metadata": {},
   "source": [
    "<h2>Import the Boston Data</h2>\n",
    "<br />\n",
    "We don't worry about adding column names to the data."
   ]
  },
  {
   "cell_type": "code",
   "execution_count": 17,
   "metadata": {
    "collapsed": false
   },
   "outputs": [
    {
     "name": "stdout",
     "output_type": "stream",
     "text": [
      "Dimension of Boston test_x =  (102, 13)\n",
      "Dimension of test_y =  (102, 1)\n",
      "Dimension of Boston train_x =  (404, 13)\n",
      "Dimension of train_y =  (404, 1)\n"
     ]
    }
   ],
   "source": [
    "boston = learn.datasets.load_dataset('boston')\n",
    "#print( \"boston = \", boston )\n",
    "x, y = boston.data, boston.target\n",
    "y.resize( y.size, 1 ) #make y = [[x], [x], [x], ... ]\n",
    "\n",
    "train_x, test_x, train_y, test_y = cross_validation.train_test_split(\n",
    "                                    x, y, test_size=0.2, random_state=42)\n",
    "\n",
    "print( \"Dimension of Boston test_x = \", test_x.shape )\n",
    "print( \"Dimension of test_y = \", test_y.shape )\n",
    "\n",
    "print( \"Dimension of Boston train_x = \", train_x.shape )\n",
    "print( \"Dimension of train_y = \", train_y.shape )\n"
   ]
  },
  {
   "cell_type": "markdown",
   "metadata": {},
   "source": [
    "We scale the inputs to have mean 0 and standard variation 1."
   ]
  },
  {
   "cell_type": "code",
   "execution_count": 18,
   "metadata": {
    "collapsed": true
   },
   "outputs": [],
   "source": [
    "scaler = preprocessing.StandardScaler( )\n",
    "train_x = scaler.fit_transform( train_x )\n",
    "test_x  = scaler.fit_transform( test_x )"
   ]
  },
  {
   "cell_type": "markdown",
   "metadata": {},
   "source": [
    "We verify that we have 13 features..."
   ]
  },
  {
   "cell_type": "code",
   "execution_count": 19,
   "metadata": {
    "collapsed": false
   },
   "outputs": [
    {
     "name": "stdout",
     "output_type": "stream",
     "text": [
      "number of features =  13\n"
     ]
    }
   ],
   "source": [
    "numFeatures =  train_x.shape[1] \n",
    "\n",
    "print( \"number of features = \", numFeatures )"
   ]
  },
  {
   "cell_type": "markdown",
   "metadata": {},
   "source": [
    "<h2>Input & Output Place-Holders</h2>\n",
    "<br />\n",
    "Define 2 place holders to the graph, one for the inputs one for the outputs..."
   ]
  },
  {
   "cell_type": "code",
   "execution_count": 20,
   "metadata": {
    "collapsed": true
   },
   "outputs": [],
   "source": [
    "with tf.name_scope(\"IO\"):\n",
    "    inputs = tf.placeholder(tf.float32, [None, numFeatures], name=\"X\")\n",
    "    outputs = tf.placeholder(tf.float32, [None, 1], name=\"Yhat\")"
   ]
  },
  {
   "cell_type": "markdown",
   "metadata": {},
   "source": [
    "<h2>Define the Coeffs for the Layers</h2>\n",
    "<br />\n",
    "For each layer the input vector will be multiplied by a matrix $h$ of dim $n$ x $m$, where $n$ is the dimension of the input vector and $m$ the dimention of the output vector.   Then a bias vector of dimension $m$ is added to the product."
   ]
  },
  {
   "cell_type": "code",
   "execution_count": 21,
   "metadata": {
    "collapsed": true
   },
   "outputs": [],
   "source": [
    "with tf.name_scope(\"LAYER\"):\n",
    "    # network architecture\n",
    "    Layers = [numFeatures, 52, 39, 26, 13, 1]\n",
    "    \n",
    "    h1   = tf.Variable(tf.random_normal([Layers[0], Layers[1]], 0, 0.1, dtype=tf.float32), name=\"h1\")\n",
    "    h2   = tf.Variable(tf.random_normal([Layers[1], Layers[2]], 0, 0.1, dtype=tf.float32), name=\"h2\")\n",
    "    h3   = tf.Variable(tf.random_normal([Layers[2], Layers[3]], 0, 0.1, dtype=tf.float32), name=\"h3\")\n",
    "    h4   = tf.Variable(tf.random_normal([Layers[3], Layers[4]], 0, 0.1, dtype=tf.float32), name=\"h4\")\n",
    "    hout = tf.Variable(tf.random_normal([Layers[4], Layers[5]], 0, 0.1, dtype=tf.float32), name=\"hout\")\n",
    "\n",
    "    b1   = tf.Variable(tf.random_normal([Layers[1]], 0, 0.1, dtype=tf.float32 ), name=\"b1\" )\n",
    "    b2   = tf.Variable(tf.random_normal([Layers[2]], 0, 0.1, dtype=tf.float32 ), name=\"b2\" )\n",
    "    b3   = tf.Variable(tf.random_normal([Layers[3]], 0, 0.1, dtype=tf.float32 ), name=\"b3\" )\n",
    "    b4   = tf.Variable(tf.random_normal([Layers[4]], 0, 0.1, dtype=tf.float32 ), name=\"b4\" )\n",
    "    bout = tf.Variable(tf.random_normal([Layers[5]], 0, 0.1, dtype=tf.float32 ), name=\"bout\" )"
   ]
  },
  {
   "cell_type": "markdown",
   "metadata": {},
   "source": [
    "<h2>Define the Layer operations as a Python funtion</h2>"
   ]
  },
  {
   "cell_type": "code",
   "execution_count": 22,
   "metadata": {
    "collapsed": true
   },
   "outputs": [],
   "source": [
    "def model( inputs, layers ):\n",
    "    [h1, b1, h2, b2, h3, b3, hout, bout] = layers\n",
    "    y1 = tf.add( tf.matmul(inputs, h1), b1 )\n",
    "    y1 = tf.nn.sigmoid( y1 )\n",
    "       \n",
    "    y2 = tf.add( tf.matmul(y1, h2), b2 )\n",
    "    y2 = tf.nn.sigmoid( y2 )\n",
    "\n",
    "    y3 = tf.add( tf.matmul(y2, h3), b3 )\n",
    "    y3 = tf.nn.sigmoid( y3 )\n",
    "\n",
    "    y4 = tf.add( tf.matmul(y3, h4), b4 )\n",
    "    y4 = tf.nn.sigmoid( y4 )\n",
    "\n",
    "    yret  = tf.matmul(y4, hout) + bout \n",
    "    return yret"
   ]
  },
  {
   "cell_type": "markdown",
   "metadata": {},
   "source": [
    "<h2>Define the operations that are performed</h2>\n",
    "<br />\n",
    "We define what happens to the inputs (x), when they are provided, and what we do with \n",
    "the outputs of the layers (compare them to the y values), and the type of minimization \n",
    "that must be done."
   ]
  },
  {
   "cell_type": "code",
   "execution_count": 23,
   "metadata": {
    "collapsed": false
   },
   "outputs": [],
   "source": [
    "with tf.name_scope(\"train\"):\n",
    "    learning_rate = 0.50\n",
    "    yout = model( inputs, [h1, b1, h2, b2, h3, b3, hout, bout] )\n",
    "    \n",
    "    cost_op = tf.reduce_mean( tf.pow( yout - outputs, 2 ))\n",
    "    #cost_op = tf.reduce_sum( tf.pow( yout - outputs, 2 ))\n",
    "    #cost_op =  tf.reduce_mean(-tf.reduce_sum( yout * tf.log( outputs ) ) )\n",
    "\n",
    "    #train_op = tf.train.GradientDescentOptimizer(learning_rate).minimize(cost_op)\n",
    "    #train_op = tf.train.AdamOptimizer( learning_rate=learning_rate ).minimize( cost_op )\n",
    "    train_op = tf.train.AdagradOptimizer( learning_rate=learning_rate ).minimize( cost_op )"
   ]
  },
  {
   "cell_type": "markdown",
   "metadata": {},
   "source": [
    "<h2>Train the Model</h2>\n",
    "<br />\n",
    "We are now ready to go through many sessions, and in each one train the model.  Here we train on the whole x-train and y-train data, rather than batching into smaller groups."
   ]
  },
  {
   "cell_type": "code",
   "execution_count": 24,
   "metadata": {
    "collapsed": false
   },
   "outputs": [
    {
     "name": "stdout",
     "output_type": "stream",
     "text": [
      "Beginning Training\n",
      "Epoch: 0 - Error: 406.0418\n",
      "Epoch: 1000 - Error: 5.6299\n",
      "Epoch: 2000 - Error: 3.2823\n",
      "Epoch: 3000 - Error: 2.7294\n",
      "Epoch: 4000 - Error: 2.5422\n",
      "Epoch: 5000 - Error: 2.3896\n",
      "Epoch: 6000 - Error: 2.2441\n",
      "Epoch: 7000 - Error: 2.1843\n",
      "Epoch: 8000 - Error: 2.1206\n",
      "Epoch: 9000 - Error: 1.7072\n",
      "Epoch: 10000 - Error: 1.3639\n",
      "Epoch: 11000 - Error: 1.0263\n",
      "Epoch: 12000 - Error: 0.8089\n",
      "Epoch: 13000 - Error: 0.6670\n",
      "Epoch: 14000 - Error: 0.5102\n",
      "Epoch: 15000 - Error: 0.4037\n",
      "Epoch: 16000 - Error: 0.3435\n",
      "Epoch: 17000 - Error: 0.2700\n",
      "Epoch: 18000 - Error: 0.2161\n",
      "Epoch: 19000 - Error: 0.1671\n",
      "Epoch: 20000 - Error: 0.1435\n",
      "Epoch: 21000 - Error: 0.1176\n",
      "Epoch: 22000 - Error: 0.0976\n",
      "Epoch: 23000 - Error: 0.0816\n",
      "Epoch: 24000 - Error: 0.0662\n",
      "Epoch: 25000 - Error: 0.0612\n",
      "Epoch: 26000 - Error: 0.0524\n",
      "Epoch: 27000 - Error: 0.0458\n",
      "Epoch: 28000 - Error: 0.0407\n",
      "Epoch: 29000 - Error: 0.0340\n",
      "Epoch: 30000 - Error: 0.0336\n",
      "Epoch: 31000 - Error: 0.0303\n",
      "Epoch: 32000 - Error: 0.0278\n",
      "Epoch: 33000 - Error: 0.0257\n",
      "Epoch: 34000 - Error: 0.0238\n",
      "Epoch: 35000 - Error: 0.0210\n",
      "Epoch: 36000 - Error: 0.0193\n",
      "Epoch: 37000 - Error: 0.0196\n",
      "Epoch: 38000 - Error: 0.0182\n",
      "Epoch: 39000 - Error: 0.0173\n",
      "Epoch: 40000 - Error: 0.0165\n",
      "Epoch: 41000 - Error: 0.0158\n",
      "Epoch: 42000 - Error: 0.0152\n",
      "Epoch: 43000 - Error: 0.0147\n",
      "Epoch: 44000 - Error: 0.0139\n",
      "Epoch: 45000 - Error: 0.0127\n",
      "Epoch: 46000 - Error: 0.0159\n",
      "Epoch: 47000 - Error: 0.0135\n",
      "Epoch: 48000 - Error: 0.0131\n",
      "Epoch: 49000 - Error: 0.0128\n",
      "Epoch: 50000 - Error: 0.0089\n",
      "Epoch: 51000 - Error: 0.0045\n",
      "STOP!\n",
      "Test Cost = 13.6573\n",
      "\n",
      "Prediction\n",
      "real\tpredicted\n",
      "23.0\t29.9\n",
      "32.0\t36.7\n",
      "13.0\t19.3\n",
      "22.0\t24.5\n",
      "16.0\t18.5\n",
      "20.0\t19.6\n",
      "17.0\t19.4\n",
      "14.0\t17.1\n",
      "19.0\t27.2\n",
      "16.0\t21.7\n"
     ]
    }
   ],
   "source": [
    "# define variables/constants that control the training\n",
    "epoch = 0\n",
    "last_cost = 0\n",
    "max_epochs = 50000\n",
    "tolerance = 1e-6\n",
    "\n",
    "print( \"Beginning Training\" )\n",
    "\n",
    "sess = tf.Session() # Create TensorFlow session\n",
    "with sess.as_default():\n",
    "    \n",
    "    # initialize the variables\n",
    "    init = tf.initialize_all_variables()\n",
    "    sess.run(init)\n",
    "    \n",
    "    # start training until we stop, either because we've reached the max\n",
    "    # number of epochs, or successive errors are close enough to each other\n",
    "    # (less than tolerance)\n",
    "    \n",
    "    costs = []\n",
    "    epochs= []\n",
    "    while True:\n",
    "        # Do the training\n",
    "        sess.run( train_op, feed_dict={inputs: train_x, outputs: train_y} )\n",
    "            \n",
    "        # Update the user every 1000 epochs\n",
    "        if epoch % 1000==0:\n",
    "            cost = sess.run(cost_op, feed_dict={inputs: train_x, outputs: train_y})\n",
    "            costs.append( cost )\n",
    "            epochs.append( epoch )\n",
    "            \n",
    "            print( \"Epoch: %d - Error: %.4f\" %(epoch, cost) )\n",
    "            \n",
    "            # time to stop?\n",
    "            if epoch > max_epochs :\n",
    "                # or abs(last_cost - cost) < tolerance:\n",
    "                print( \"STOP!\" )\n",
    "                break\n",
    "            last_cost = cost\n",
    "            \n",
    "        epoch += 1\n",
    "    \n",
    "    # we're done...\n",
    "    # print some statistics...\n",
    "    \n",
    "    print( \"Test Cost =\", sess.run(cost_op, feed_dict={inputs: test_x, outputs: test_y}) )\n",
    "\n",
    "    # compute the predicted output for test_x\n",
    "    pred_y = sess.run( yout, feed_dict={inputs: test_x, outputs: test_y} )\n",
    "    \n",
    "    print( \"\\nPrediction\\nreal\\tpredicted\" )\n",
    "    for (y, yHat ) in zip( test_y, pred_y )[0:10]:\n",
    "        print( \"%1.1f\\t%1.1f\" % (y, yHat ) )\n",
    "    "
   ]
  },
  {
   "cell_type": "markdown",
   "metadata": {},
   "source": [
    "<h2>R2 score</h2>\n",
    "<br />"
   ]
  },
  {
   "cell_type": "code",
   "execution_count": 25,
   "metadata": {
    "collapsed": false
   },
   "outputs": [
    {
     "name": "stdout",
     "output_type": "stream",
     "text": [
      "mean squared error =  13.6573081195\n",
      "r2 score (coef determination) =  0.81498519045\n"
     ]
    }
   ],
   "source": [
    "r2 =  metrics.r2_score(test_y, pred_y) \n",
    "print( \"mean squared error = \", metrics.mean_squared_error(test_y, pred_y))\n",
    "print( \"r2 score (coef determination) = \", metrics.r2_score(test_y, pred_y))"
   ]
  },
  {
   "cell_type": "markdown",
   "metadata": {},
   "source": [
    "<h2>Plot Prediction vs. Real Housing Price</h2>"
   ]
  },
  {
   "cell_type": "code",
   "execution_count": 41,
   "metadata": {
    "collapsed": false
   },
   "outputs": [
    {
     "data": {
      "image/png": "[encoded data removed]",
      "text/plain": [
       "<matplotlib.figure.Figure at 0x113dda0d0>"
      ]
     },
     "metadata": {},
     "output_type": "display_data"
    },
    {
     "data": {
      "image/png": "[encoded data removed]",
      "text/plain": [
       "<matplotlib.figure.Figure at 0x113991d50>"
      ]
     },
     "metadata": {},
     "output_type": "display_data"
    }
   ],
   "source": [
    "    \n",
    "    fig = plt.figure()\n",
    "    plt.scatter( test_y, pred_y )\n",
    "    plt.text(5, 50, r'r2 = %1.4f' % r2)\n",
    "    plt.xlabel( \"Test y\" )\n",
    "    plt.ylabel( \"predicted y\" )\n",
    "    plt.title( \"Prediction vs. Actual Y\" )\n",
    "    #plt.save( \"images/sigmoid_adagrad_52_39_26_13_1.png\")\n",
    "    plt.show()\n",
    "    fig.savefig('PredVsRealBoston.png', bbox_inches='tight')\n",
    "    \n",
    "    fig = plt.figure()\n",
    "    plt.scatter( test_y, test_y - pred_y )\n",
    "    plt.axhline(0, color='black')\n",
    "    plt.xlabel( \"Test y\" )\n",
    "    plt.ylabel( \"Test y - Predicted Y\" )\n",
    "    plt.title( \"Residuals\" )\n",
    "    plt.show()\n",
    "    fig.savefig('ResidualsBoston.png', bbox_inches='tight')\n",
    "    "
   ]
  },
  {
   "cell_type": "markdown",
   "metadata": {},
   "source": [
    "<h2>Plot Cost vs Epochs</h2>"
   ]
  },
  {
   "cell_type": "code",
   "execution_count": 42,
   "metadata": {
    "collapsed": false,
    "scrolled": false
   },
   "outputs": [
    {
     "data": {
      "image/png": "[encoded data removed]",
      "text/plain": [
       "<matplotlib.figure.Figure at 0x113635d50>"
      ]
     },
     "metadata": {},
     "output_type": "display_data"
    }
   ],
   "source": [
    "    fig = plt.figure()\n",
    "    plt.semilogy( epochs, costs )\n",
    "    plt.xlabel( \"Epochs\" )\n",
    "    plt.ylabel( \"Cost\" )\n",
    "    plt.title( \"Cost vs. Epochs\")\n",
    "    plt.show()\n",
    "    fig.savefig('CostVsEpochs.png', bbox_inches='tight')"
   ]
  },
  {
   "cell_type": "code",
   "execution_count": null,
   "metadata": {
    "collapsed": true
   },
   "outputs": [],
   "source": []
  }
 ],
 "metadata": {
  "kernelspec": {
   "display_name": "Python 2",
   "language": "python",
   "name": "python2"
  },
  "language_info": {
   "codemirror_mode": {
    "name": "ipython",
    "version": 2
   },
   "file_extension": ".py",
   "mimetype": "text/x-python",
   "name": "python",
   "nbconvert_exporter": "python",
   "pygments_lexer": "ipython2",
   "version": "2.7.10"
  }
 },
 "nbformat": 4,
 "nbformat_minor": 0
}
